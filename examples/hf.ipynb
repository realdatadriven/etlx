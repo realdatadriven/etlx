{
 "cells": [
  {
   "cell_type": "markdown",
   "metadata": {},
   "source": [
    "The [`httpfs`](https://duckdb.org/docs/extensions/httpfs/overview, \"httpfs\") extension introduces support for the hf:// protocol to access data sets hosted in [Hugging Face](https://huggingface.co \"Hugging Face Homepage\") repositories. See the [announcement blog post](https://duckdb.org/2024/05/29/access-150k-plus-datasets-from-hugging-face-with-duckdb.html, \"announcement blog post\") for details."
   ]
  },
  {
   "cell_type": "markdown",
   "metadata": {},
   "source": [
    "# ETL"
   ]
  },
  {
   "cell_type": "markdown",
   "metadata": {},
   "source": [
    "```yaml metadata\n",
    "name: HF_EXTRACT\n",
    "description: \"Example extracting from hf to a local sqlite3 file\"\n",
    "connection: \"duckdb:\"\n",
    "active: true\n",
    "```"
   ]
  },
  {
   "cell_type": "markdown",
   "metadata": {},
   "source": [
    "## HF_EXTRACT"
   ]
  },
  {
   "cell_type": "markdown",
   "metadata": {},
   "source": [
    "```yaml metadata\n",
    "name: HF_EXTRACT\n",
    "description: \"Example extracting from hf to a local sqlite3 file\"\n",
    "table: HF_EXTRACT\n",
    "load_conn: \"duckdb:\"\n",
    "load_before_sql:\n",
    "  - load_extentions\n",
    "  - attach_db\n",
    "  - create_hf_token\n",
    "load_sql: load_query\n",
    "load_after_sql: detach_db\n",
    "drop_sql: drop_sql\n",
    "clean_sql: clean_sql\n",
    "rows_sql: nrows\n",
    "active: true\n",
    "```"
   ]
  },
  {
   "cell_type": "markdown",
   "metadata": {},
   "source": [
    "```sql\n",
    "-- load_extentions\n",
    "INSTALL sqlite;\n",
    "LOAD sqlite;\n",
    "INSTALL httpfs;\n",
    "LOAD httpfs;\n",
    "```"
   ]
  },
  {
   "cell_type": "markdown",
   "metadata": {},
   "source": [
    "```sql\n",
    "-- attach_db\n",
    "ATTACH 'examples/HF_EXTRACT.db' AS \"DB\" (TYPE SQLITE)\n",
    "```"
   ]
  },
  {
   "cell_type": "markdown",
   "metadata": {},
   "source": [
    "Configure your Hugging Face Token in the DuckDB Secrets Manager to access private or gated datasets. First, [visit Hugging Face Settings – Tokens](https://huggingface.co/settings/tokens) to obtain your access token. Second, set it in your DuckDB session using [DuckDB’s Secrets Manager](https://duckdb.org/docs/configuration/secrets_manager.html). DuckDB supports two providers for managing secrets:"
   ]
  },
  {
   "cell_type": "markdown",
   "metadata": {},
   "source": [
    "```sql\n",
    "-- create_hf_token\n",
    "CREATE SECRET hf_token (\n",
    "   TYPE HUGGINGFACE,\n",
    "   TOKEN '@HF_TOKEN'\n",
    ");\n",
    "```"
   ]
  },
  {
   "cell_type": "markdown",
   "metadata": {},
   "source": [
    "```sql\n",
    "-- detach_db\n",
    "DETACH \"DB\";\n",
    "```"
   ]
  },
  {
   "cell_type": "markdown",
   "metadata": {},
   "source": [
    "```sql\n",
    "-- load_query\n",
    "CREATE OR REPLACE TABLE \"DB\".\"<table>\" AS\n",
    "SELECT *\n",
    "FROM 'hf://datasets/datasets-examples/doc-formats-csv-1/data.csv'\n",
    "LIMIT 10\n",
    "```"
   ]
  },
  {
   "cell_type": "markdown",
   "metadata": {},
   "source": [
    "```sql\n",
    "-- load_query2\n",
    "CREATE OR REPLACE TABLE \"DB\".\"<table>\" AS\n",
    "SELECT *\n",
    "FROM 'hf://datasets/horus-ai-labs/WebInstructSub-150K/data/train-00000-of-00001.parquet'\n",
    "```"
   ]
  },
  {
   "cell_type": "markdown",
   "metadata": {},
   "source": [
    "```sql\n",
    "-- drop_sql\n",
    "DROP TABLE IF EXISTS \"DB\".\"<table>\";\n",
    "```"
   ]
  },
  {
   "cell_type": "markdown",
   "metadata": {},
   "source": [
    "```sql\n",
    "-- clean_sql\n",
    "DELETE FROM \"DB\".\"<table>\";\n",
    "```"
   ]
  },
  {
   "cell_type": "markdown",
   "metadata": {},
   "source": [
    "```sql\n",
    "-- nrows\n",
    "SELECT COUNT(*) AS \"nrows\" FROM \"DB\".\"<table>\"\n",
    "```"
   ]
  },
  {
   "cell_type": "markdown",
   "metadata": {},
   "source": [
    "```shell\n",
    "bin/etlx --config examples/hf.ipynb\n",
    "```"
   ]
  }
 ],
 "metadata": {
  "kernelspec": {
   "display_name": "Python 3",
   "language": "python",
   "name": "python3"
  },
  "language_info": {
   "codemirror_mode": {
    "name": "ipython",
    "version": 3
   },
   "file_extension": ".py",
   "mimetype": "text/x-python",
   "name": "python",
   "nbconvert_exporter": "python",
   "pygments_lexer": "ipython3",
   "version": "3.11.7"
  }
 },
 "nbformat": 4,
 "nbformat_minor": 2
}
